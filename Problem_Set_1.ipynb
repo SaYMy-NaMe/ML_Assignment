{
  "nbformat": 4,
  "nbformat_minor": 0,
  "metadata": {
    "colab": {
      "provenance": [],
      "authorship_tag": "ABX9TyNKq70tqwZwotDkKviEUsuc",
      "include_colab_link": true
    },
    "kernelspec": {
      "name": "python3",
      "display_name": "Python 3"
    },
    "language_info": {
      "name": "python"
    }
  },
  "cells": [
    {
      "cell_type": "markdown",
      "metadata": {
        "id": "view-in-github",
        "colab_type": "text"
      },
      "source": [
        "<a href=\"https://colab.research.google.com/github/SaYMy-NaMe/ML_Assignment/blob/main/Problem_Set_1.ipynb\" target=\"_parent\"><img src=\"https://colab.research.google.com/assets/colab-badge.svg\" alt=\"Open In Colab\"/></a>"
      ]
    },
    {
      "cell_type": "markdown",
      "source": [
        "Import Libraries"
      ],
      "metadata": {
        "id": "-4ZzEii8ASqk"
      }
    },
    {
      "cell_type": "code",
      "source": [
        "import numpy as np\n",
        "import pandas as pd\n",
        "import matplotlib.pyplot as plt\n",
        "\n",
        "from PIL import Image\n",
        "\n",
        "from keras.models import Sequential\n",
        "from keras.layers import Conv2D\n",
        "from keras.layers import MaxPooling2D\n",
        "from keras.layers import Flatten\n",
        "from keras.layers import Dense\n",
        "from keras.preprocessing.image import ImageDataGenerator, load_img\n",
        "\n",
        "import os"
      ],
      "metadata": {
        "id": "7vNuf507AZoo"
      },
      "execution_count": 1,
      "outputs": []
    },
    {
      "cell_type": "markdown",
      "source": [
        "Mount Drive"
      ],
      "metadata": {
        "id": "udDWwdD7Ar4u"
      }
    },
    {
      "cell_type": "code",
      "source": [
        "from google.colab import drive\n",
        "drive.mount('/content/gdrive')"
      ],
      "metadata": {
        "colab": {
          "base_uri": "https://localhost:8080/"
        },
        "id": "xFjptCM7Azj1",
        "outputId": "34d42944-f2d8-4a26-a65d-04cb6fa3532f"
      },
      "execution_count": 2,
      "outputs": [
        {
          "output_type": "stream",
          "name": "stdout",
          "text": [
            "Mounted at /content/gdrive\n"
          ]
        }
      ]
    },
    {
      "cell_type": "markdown",
      "source": [
        "Setup file paths for dataset"
      ],
      "metadata": {
        "id": "T2G-y-j9BKlA"
      }
    },
    {
      "cell_type": "code",
      "source": [
        "train_folder= '/content/gdrive/MyDrive/ML/Archive/train'\n",
        "val_folder = '/content/gdrive/MyDrive/ML/Archive/val'\n",
        "test_folder = '/content/gdrive/MyDrive/ML/Archive/test'\n",
        "train_n = train_folder + 'NORMAL/'\n",
        "train_p = train_folder + 'PNEUMONIA/'"
      ],
      "metadata": {
        "id": "5jigx4FXBMUl"
      },
      "execution_count": 12,
      "outputs": []
    },
    {
      "cell_type": "markdown",
      "source": [
        "Define and compile the CNN model"
      ],
      "metadata": {
        "id": "CXVkq92Wqpp3"
      }
    },
    {
      "cell_type": "code",
      "source": [
        "cnn_model = Sequential()\n",
        "cnn_model.add(Conv2D(32, (3, 3), activation=\"relu\", input_shape=(64, 64, 3)))\n",
        "cnn_model.add(MaxPooling2D(pool_size=(2, 2)))\n",
        "cnn_model.add(Conv2D(32, (3, 3), activation=\"relu\"))\n",
        "cnn_model.add(MaxPooling2D(pool_size=(2, 2)))\n",
        "cnn_model.add(Flatten())\n",
        "cnn_model.add(Dense(activation='relu', units=128))\n",
        "cnn_model.add(Dense(activation='sigmoid', units=1))\n",
        "cnn_model.compile(optimizer='adam', loss='binary_crossentropy', metrics=['accuracy'])"
      ],
      "metadata": {
        "id": "pErZIdJOqwwC"
      },
      "execution_count": 14,
      "outputs": []
    },
    {
      "cell_type": "markdown",
      "source": [
        "Data Augmentation and preparation"
      ],
      "metadata": {
        "id": "gDNx6G-1q01N"
      }
    },
    {
      "cell_type": "code",
      "source": [
        "train_datagen = ImageDataGenerator(rescale=1./255, shear_range=0.2, zoom_range=0.2, horizontal_flip=True)\n",
        "train_set = train_datagen.flow_from_directory(train_folder, target_size=(64, 64), batch_size=32, class_mode='binary')\n",
        "\n",
        "test_datagen = ImageDataGenerator(rescale=1./255)\n",
        "validation_generator = test_datagen.flow_from_directory(val_folder, target_size=(64, 64), batch_size=32, class_mode='binary')\n",
        "test_set = test_datagen.flow_from_directory(test_folder, target_size=(64, 64), batch_size=32, class_mode='binary')"
      ],
      "metadata": {
        "colab": {
          "base_uri": "https://localhost:8080/"
        },
        "id": "74wnOyZIq2--",
        "outputId": "acc309e4-f605-4ae3-8d1d-d1d196a2ef15"
      },
      "execution_count": 15,
      "outputs": [
        {
          "output_type": "stream",
          "name": "stdout",
          "text": [
            "Found 5276 images belonging to 2 classes.\n",
            "Found 16 images belonging to 2 classes.\n",
            "Found 624 images belonging to 2 classes.\n"
          ]
        }
      ]
    },
    {
      "cell_type": "markdown",
      "source": [
        "Train the CNN model"
      ],
      "metadata": {
        "id": "66k-n7Clq5_e"
      }
    },
    {
      "cell_type": "code",
      "source": [
        "cnn_model_his = cnn_model.fit_generator(train_set, steps_per_epoch=163, epochs=10, validation_data=validation_generator, validation_steps=624)"
      ],
      "metadata": {
        "colab": {
          "base_uri": "https://localhost:8080/"
        },
        "id": "85k0E4vTq8Ed",
        "outputId": "b10fb264-538a-49ac-a50f-22698a1e51a2"
      },
      "execution_count": 16,
      "outputs": [
        {
          "output_type": "stream",
          "name": "stdout",
          "text": [
            "163/163 [==============================] - ETA: 0s - loss: 0.3168 - accuracy: 0.8594"
          ]
        },
        {
          "output_type": "stream",
          "name": "stderr",
          "text": [
            "WARNING:tensorflow:Your input ran out of data; interrupting training. Make sure that your dataset or generator can generate at least `steps_per_epoch * epochs` batches (in this case, 624 batches). You may need to use the repeat() function when building your dataset.\n"
          ]
        },
        {
          "output_type": "stream",
          "name": "stdout",
          "text": [
            "\b\b\b\b\b\b\b\b\b\b\b\b\b\b\b\b\b\b\b\b\b\b\b\b\b\b\b\b\b\b\b\b\b\b\b\b\b\b\b\b\b\b\b\b\b\b\b\b\b\b\b\b\b\b\b\b\b\b\b\b\b\b\b\b\b\b\b\b\b\b\b\b\b\b\b\b\b\b\b\b\b\b\b\b\r163/163 [==============================] - 817s 5s/step - loss: 0.3168 - accuracy: 0.8594 - val_loss: 0.4342 - val_accuracy: 0.7500\n",
            "Epoch 2/10\n",
            "163/163 [==============================] - 119s 729ms/step - loss: 0.2267 - accuracy: 0.9069\n",
            "Epoch 3/10\n",
            "163/163 [==============================] - 116s 712ms/step - loss: 0.2018 - accuracy: 0.9215\n",
            "Epoch 4/10\n",
            "163/163 [==============================] - 119s 729ms/step - loss: 0.1808 - accuracy: 0.9286\n",
            "Epoch 5/10\n",
            "163/163 [==============================] - 113s 694ms/step - loss: 0.1898 - accuracy: 0.9248\n",
            "Epoch 6/10\n",
            "163/163 [==============================] - 118s 724ms/step - loss: 0.1693 - accuracy: 0.9367\n",
            "Epoch 7/10\n",
            "163/163 [==============================] - 111s 683ms/step - loss: 0.1544 - accuracy: 0.9426\n",
            "Epoch 8/10\n",
            "163/163 [==============================] - 114s 699ms/step - loss: 0.1477 - accuracy: 0.9428\n",
            "Epoch 9/10\n",
            "163/163 [==============================] - 112s 688ms/step - loss: 0.1547 - accuracy: 0.9422\n",
            "Epoch 10/10\n",
            "163/163 [==============================] - 110s 676ms/step - loss: 0.1564 - accuracy: 0.9401\n"
          ]
        }
      ]
    },
    {
      "cell_type": "markdown",
      "source": [
        "Evaluate and display the testing accuracy"
      ],
      "metadata": {
        "id": "tcVtzoDfrBr5"
      }
    },
    {
      "cell_type": "code",
      "source": [
        "test_acc = cnn_model.evaluate_generator(test_set, steps=624)\n",
        "print('The testing accuracy is:', test_acc[1] * 100, '%')"
      ],
      "metadata": {
        "colab": {
          "base_uri": "https://localhost:8080/"
        },
        "id": "ojFbMGRgrD2s",
        "outputId": "28de9960-4aa9-4533-fa5d-512f0697d681"
      },
      "execution_count": 17,
      "outputs": [
        {
          "output_type": "stream",
          "name": "stderr",
          "text": [
            "<ipython-input-17-79f665cab925>:1: UserWarning: `Model.evaluate_generator` is deprecated and will be removed in a future version. Please use `Model.evaluate`, which supports generators.\n",
            "  test_acc = cnn_model.evaluate_generator(test_set, steps=624)\n",
            "WARNING:tensorflow:Your input ran out of data; interrupting training. Make sure that your dataset or generator can generate at least `steps_per_epoch * epochs` batches (in this case, 624 batches). You may need to use the repeat() function when building your dataset.\n"
          ]
        },
        {
          "output_type": "stream",
          "name": "stdout",
          "text": [
            "The testing accuracy is: 87.33974099159241 %\n"
          ]
        }
      ]
    },
    {
      "cell_type": "markdown",
      "source": [
        "Plot the training and validation accuracy over epochs"
      ],
      "metadata": {
        "id": "vfNjdtgLrGn-"
      }
    },
    {
      "cell_type": "code",
      "source": [
        "plt.plot(cnn_model_his.history['accuracy'])\n",
        "plt.plot(cnn_model_his.history['val_accuracy'])\n",
        "plt.title('Model Accuracy')\n",
        "plt.ylabel('Accuracy')\n",
        "plt.xlabel('Epoch')\n",
        "plt.legend(['Training set', 'Validation set'], loc='upper left')\n",
        "plt.show()"
      ],
      "metadata": {
        "colab": {
          "base_uri": "https://localhost:8080/",
          "height": 471
        },
        "id": "HwcKsH4MrJMo",
        "outputId": "2d035696-144c-4d19-9a27-85e990af16ac"
      },
      "execution_count": 19,
      "outputs": [
        {
          "output_type": "display_data",
          "data": {
            "text/plain": [
              "<Figure size 640x480 with 1 Axes>"
            ],
            "image/png": "[encoded data removed]"
          },
          "metadata": {}
        }
      ]
    }
  ]
}