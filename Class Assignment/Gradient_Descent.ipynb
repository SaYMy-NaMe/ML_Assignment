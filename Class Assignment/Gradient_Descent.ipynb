{
  "nbformat": 4,
  "nbformat_minor": 0,
  "metadata": {
    "colab": {
      "provenance": [],
      "authorship_tag": "ABX9TyNIFWbCr46jvr9wQyler74C",
      "include_colab_link": true
    },
    "kernelspec": {
      "name": "python3",
      "display_name": "Python 3"
    },
    "language_info": {
      "name": "python"
    }
  },
  "cells": [
    {
      "cell_type": "markdown",
      "metadata": {
        "id": "view-in-github",
        "colab_type": "text"
      },
      "source": [
        "<a href=\"https://colab.research.google.com/github/SaYMy-NaMe/ML_Assignment/blob/main/Gradient_Descent.ipynb\" target=\"_parent\"><img src=\"https://colab.research.google.com/assets/colab-badge.svg\" alt=\"Open In Colab\"/></a>"
      ]
    },
    {
      "cell_type": "markdown",
      "source": [
        "Import necessary libraries"
      ],
      "metadata": {
        "id": "k4VKpnyfDbEd"
      }
    },
    {
      "cell_type": "code",
      "execution_count": 1,
      "metadata": {
        "id": "k7snMP17CZt-"
      },
      "outputs": [],
      "source": [
        "import numpy as np\n",
        "import matplotlib.pyplot as plt"
      ]
    },
    {
      "cell_type": "markdown",
      "source": [
        "Define the cost function"
      ],
      "metadata": {
        "id": "9h-NZLDsDodC"
      }
    },
    {
      "cell_type": "code",
      "source": [
        "def cost_function(x):\n",
        "    return x**2"
      ],
      "metadata": {
        "id": "xgRGFuFhDn3z"
      },
      "execution_count": 2,
      "outputs": []
    },
    {
      "cell_type": "markdown",
      "source": [
        "Define the gradient of the cost function"
      ],
      "metadata": {
        "id": "U7f4Vr5ODxNt"
      }
    },
    {
      "cell_type": "code",
      "source": [
        "def gradient(x):\n",
        "    return 2 * x"
      ],
      "metadata": {
        "id": "LKjkgUtuD0Xw"
      },
      "execution_count": 3,
      "outputs": []
    },
    {
      "cell_type": "markdown",
      "source": [
        "Implement the gradient descent algorithm"
      ],
      "metadata": {
        "id": "9HxMygmiD70C"
      }
    },
    {
      "cell_type": "code",
      "source": [
        "def gradient_descent(initial_x, learning_rate, iterations):\n",
        "    x_values = []\n",
        "    cost_values = []\n",
        "    x = initial_x\n",
        "    # Loop through iterations\n",
        "    for _ in range(iterations):\n",
        "        # Calculate cost and append to lists\n",
        "        cost = cost_function(x)\n",
        "        x_values.append(x)\n",
        "        cost_values.append(cost)\n",
        "\n",
        "        # Update x using the gradient descent formula\n",
        "        x = x - learning_rate * gradient(x)\n",
        "\n",
        "    # Return the lists of x values and corresponding cost values\n",
        "    return x_values, cost_values\n"
      ],
      "metadata": {
        "id": "gWHTYkaPD8zX"
      },
      "execution_count": 8,
      "outputs": []
    },
    {
      "cell_type": "markdown",
      "source": [
        " Set initial parameters"
      ],
      "metadata": {
        "id": "FE-4DxKSEisY"
      }
    },
    {
      "cell_type": "code",
      "source": [
        "initial_x = 4.0\n",
        "learning_rate = 0.1\n",
        "iterations = 50"
      ],
      "metadata": {
        "id": "wNA8u9GFEj2V"
      },
      "execution_count": 9,
      "outputs": []
    },
    {
      "cell_type": "markdown",
      "source": [
        "Run gradient descent and obtain results"
      ],
      "metadata": {
        "id": "ioTgpTyyEnUv"
      }
    },
    {
      "cell_type": "code",
      "source": [
        "x_values, cost_values = gradient_descent(initial_x, learning_rate, iterations)"
      ],
      "metadata": {
        "id": "HgWeGbr4EqZ3"
      },
      "execution_count": 10,
      "outputs": []
    },
    {
      "cell_type": "markdown",
      "source": [
        "Plot the results"
      ],
      "metadata": {
        "id": "o_YEiN__Eum5"
      }
    },
    {
      "cell_type": "code",
      "source": [
        "plt.plot(x_values, cost_values, marker='o', linestyle='-', color='b')\n",
        "plt.title('Gradient Descent')\n",
        "plt.xlabel('x values')\n",
        "plt.ylabel('Cost values')\n",
        "plt.show()"
      ],
      "metadata": {
        "colab": {
          "base_uri": "https://localhost:8080/",
          "height": 472
        },
        "id": "wfFB3_y6Ew9d",
        "outputId": "4c66ec58-a9ce-4294-b207-a883b039defc"
      },
      "execution_count": 11,
      "outputs": [
        {
          "output_type": "display_data",
          "data": {
            "text/plain": [
              "<Figure size 640x480 with 1 Axes>"
            ],
            "image/png": "[encoded data removed]"
          },
          "metadata": {}
        }
      ]
    }
  ]
}